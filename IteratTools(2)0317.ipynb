{
  "nbformat": 4,
  "nbformat_minor": 0,
  "metadata": {
    "colab": {
      "provenance": [],
      "include_colab_link": true
    },
    "kernelspec": {
      "name": "python3",
      "display_name": "Python 3"
    },
    "language_info": {
      "name": "python"
    }
  },
  "cells": [
    {
      "cell_type": "markdown",
      "metadata": {
        "id": "view-in-github",
        "colab_type": "text"
      },
      "source": [
        "<a href=\"https://colab.research.google.com/github/AnamikaRajThettummal/Numpy/blob/main/IteratTools(2)0317.ipynb\" target=\"_parent\"><img src=\"https://colab.research.google.com/assets/colab-badge.svg\" alt=\"Open In Colab\"/></a>"
      ]
    },
    {
      "cell_type": "code",
      "source": [
        "from itertools import count\n",
        "\n",
        "for number in count(start=1, step=2):\n",
        "\tif number > 15:\n",
        "\t\tbreak\n",
        "\tprint(number) # print statement\n"
      ],
      "metadata": {
        "colab": {
          "base_uri": "https://localhost:8080/"
        },
        "id": "C9fI0kC97nAH",
        "outputId": "f42208bf-427a-41df-b78d-13fe685b1961"
      },
      "execution_count": 1,
      "outputs": [
        {
          "output_type": "stream",
          "name": "stdout",
          "text": [
            "1\n",
            "3\n",
            "5\n",
            "7\n",
            "9\n",
            "11\n",
            "13\n",
            "15\n"
          ]
        }
      ]
    },
    {
      "cell_type": "code",
      "source": [
        "# Python program to demonstrate\n",
        "# infinite iterators\n",
        "\n",
        "import itertools\n",
        "\n",
        "# for in loop\n",
        "for i in itertools.count(5, 5):\n",
        "\tif i == 85:\n",
        "\t\tbreak\n",
        "\telse:\n",
        "\t\tprint(i, end=\" \")\n"
      ],
      "metadata": {
        "colab": {
          "base_uri": "https://localhost:8080/"
        },
        "id": "A25V5XOh_aZ8",
        "outputId": "2d37b457-5bde-40c2-da57-265d7d186987"
      },
      "execution_count": 2,
      "outputs": [
        {
          "output_type": "stream",
          "name": "stdout",
          "text": [
            "5 10 15 20 25 30 35 40 45 50 55 60 65 70 75 80 "
          ]
        }
      ]
    },
    {
      "cell_type": "code",
      "source": [
        "# Python program to demonstrate\n",
        "# infinite iterators\n",
        "\n",
        "import itertools\n",
        "\n",
        "count = 0\n",
        "\n",
        "# for in loop\n",
        "for i in itertools.cycle('ABC'):\n",
        "\tif count > 17:\n",
        "\t\tbreak\n",
        "\telse:\n",
        "\t\tprint(i, end=\" \")\n",
        "\t\tcount += 1\n"
      ],
      "metadata": {
        "colab": {
          "base_uri": "https://localhost:8080/"
        },
        "id": "aywZ7-a2_66j",
        "outputId": "b8e6a66e-ae5d-4f0e-f7f0-7209d3faf348"
      },
      "execution_count": 3,
      "outputs": [
        {
          "output_type": "stream",
          "name": "stdout",
          "text": [
            "A B C A B C A B C A B C A B C A B C "
          ]
        }
      ]
    },
    {
      "cell_type": "code",
      "source": [
        "#Using the next function\n",
        "# Python program to demonstrate\n",
        "# infinite iterators\n",
        "\n",
        "import itertools\n",
        "\n",
        "l = ['FDS', 'ECE', 'CSE']\n",
        "\n",
        "# defining iterator\n",
        "iterators = itertools.cycle(l)\n",
        "\n",
        "# for in loop\n",
        "for i in range(7):\n",
        "\n",
        "\t# Using next function\n",
        "\tprint(next(iterators), end=\" \")\n"
      ],
      "metadata": {
        "colab": {
          "base_uri": "https://localhost:8080/"
        },
        "id": "nPsUu6Tr-B5E",
        "outputId": "843d58d0-72c8-44ef-e84e-044a2cb0522b"
      },
      "execution_count": 9,
      "outputs": [
        {
          "output_type": "stream",
          "name": "stdout",
          "text": [
            "FDS ECE CSE FDS ECE CSE FDS "
          ]
        }
      ]
    },
    {
      "cell_type": "code",
      "source": [
        "#repeat(val, num):\n",
        "# Python code to demonstrate the working of\n",
        "# repeat()\n",
        "\n",
        "# importing \"itertools\" for iterator operations\n",
        "import itertools\n",
        "\n",
        "# using repeat() to repeatedly print number\n",
        "print(\"Printing the numbers repeatedly : \")\n",
        "print(list(itertools.repeat(14, 10)))\n"
      ],
      "metadata": {
        "colab": {
          "base_uri": "https://localhost:8080/"
        },
        "id": "RMRn2PiHAnMH",
        "outputId": "bd3bbe65-ec3a-427a-e253-63befbea3f56"
      },
      "execution_count": 6,
      "outputs": [
        {
          "output_type": "stream",
          "name": "stdout",
          "text": [
            "Printing the numbers repeatedly : \n",
            "[14, 14, 14, 14, 14, 14, 14, 14, 14, 14]\n"
          ]
        }
      ]
    },
    {
      "cell_type": "code",
      "source": [
        "# import the product function from itertools module\n",
        "from itertools import product\n",
        "\n",
        "print(\"The cartesian product using repeat:\")\n",
        "print(list(product([1, 2], repeat=2)))\n",
        "print()\n",
        "\n",
        "print(\"The cartesian product of the containers:\")\n",
        "print(list(product(['FDS', 'PYTHON', 'ECE'], '4')))\n",
        "print()\n",
        "\n",
        "print(\"The cartesian product of the containers:\")\n",
        "print(list(product('AB', [3, 4])))\n"
      ],
      "metadata": {
        "colab": {
          "base_uri": "https://localhost:8080/"
        },
        "id": "2nGgcZ-x9S5D",
        "outputId": "522fa599-39a8-4838-be73-93f84af8c6b2"
      },
      "execution_count": 8,
      "outputs": [
        {
          "output_type": "stream",
          "name": "stdout",
          "text": [
            "The cartesian product using repeat:\n",
            "[(1, 1), (1, 2), (2, 1), (2, 2)]\n",
            "\n",
            "The cartesian product of the containers:\n",
            "[('FDS', '4'), ('PYTHON', '4'), ('ECE', '4')]\n",
            "\n",
            "The cartesian product of the containers:\n",
            "[('A', 3), ('A', 4), ('B', 3), ('B', 4)]\n"
          ]
        }
      ]
    },
    {
      "cell_type": "code",
      "source": [
        "# import the product function from itertools module\n",
        "from itertools import permutations\n",
        "\n",
        "print(\"All the permutations of the given list is:\")\n",
        "print(list(permutations([1, 'PYTHON'], 2)))\n",
        "print()\n",
        "\n",
        "print(\"All the permutations of the given string is:\")\n",
        "print(list(permutations('ABGVYG')))\n",
        "print()\n",
        "\n",
        "print(\"All the permutations of the given container is:\")\n",
        "print(list(permutations(range(5), 2)))\n"
      ],
      "metadata": {
        "colab": {
          "base_uri": "https://localhost:8080/"
        },
        "id": "0ta1eX-uKLqy",
        "outputId": "8f1de97a-fef7-4ab0-f38b-2403edf7151f"
      },
      "execution_count": 10,
      "outputs": [
        {
          "output_type": "stream",
          "name": "stdout",
          "text": [
            "All the permutations of the given list is:\n",
            "[(1, 'PYTHON'), ('PYTHON', 1)]\n",
            "\n",
            "All the permutations of the given string is:\n",
            "[('A', 'B', 'G', 'V', 'Y', 'G'), ('A', 'B', 'G', 'V', 'G', 'Y'), ('A', 'B', 'G', 'Y', 'V', 'G'), ('A', 'B', 'G', 'Y', 'G', 'V'), ('A', 'B', 'G', 'G', 'V', 'Y'), ('A', 'B', 'G', 'G', 'Y', 'V'), ('A', 'B', 'V', 'G', 'Y', 'G'), ('A', 'B', 'V', 'G', 'G', 'Y'), ('A', 'B', 'V', 'Y', 'G', 'G'), ('A', 'B', 'V', 'Y', 'G', 'G'), ('A', 'B', 'V', 'G', 'G', 'Y'), ('A', 'B', 'V', 'G', 'Y', 'G'), ('A', 'B', 'Y', 'G', 'V', 'G'), ('A', 'B', 'Y', 'G', 'G', 'V'), ('A', 'B', 'Y', 'V', 'G', 'G'), ('A', 'B', 'Y', 'V', 'G', 'G'), ('A', 'B', 'Y', 'G', 'G', 'V'), ('A', 'B', 'Y', 'G', 'V', 'G'), ('A', 'B', 'G', 'G', 'V', 'Y'), ('A', 'B', 'G', 'G', 'Y', 'V'), ('A', 'B', 'G', 'V', 'G', 'Y'), ('A', 'B', 'G', 'V', 'Y', 'G'), ('A', 'B', 'G', 'Y', 'G', 'V'), ('A', 'B', 'G', 'Y', 'V', 'G'), ('A', 'G', 'B', 'V', 'Y', 'G'), ('A', 'G', 'B', 'V', 'G', 'Y'), ('A', 'G', 'B', 'Y', 'V', 'G'), ('A', 'G', 'B', 'Y', 'G', 'V'), ('A', 'G', 'B', 'G', 'V', 'Y'), ('A', 'G', 'B', 'G', 'Y', 'V'), ('A', 'G', 'V', 'B', 'Y', 'G'), ('A', 'G', 'V', 'B', 'G', 'Y'), ('A', 'G', 'V', 'Y', 'B', 'G'), ('A', 'G', 'V', 'Y', 'G', 'B'), ('A', 'G', 'V', 'G', 'B', 'Y'), ('A', 'G', 'V', 'G', 'Y', 'B'), ('A', 'G', 'Y', 'B', 'V', 'G'), ('A', 'G', 'Y', 'B', 'G', 'V'), ('A', 'G', 'Y', 'V', 'B', 'G'), ('A', 'G', 'Y', 'V', 'G', 'B'), ('A', 'G', 'Y', 'G', 'B', 'V'), ('A', 'G', 'Y', 'G', 'V', 'B'), ('A', 'G', 'G', 'B', 'V', 'Y'), ('A', 'G', 'G', 'B', 'Y', 'V'), ('A', 'G', 'G', 'V', 'B', 'Y'), ('A', 'G', 'G', 'V', 'Y', 'B'), ('A', 'G', 'G', 'Y', 'B', 'V'), ('A', 'G', 'G', 'Y', 'V', 'B'), ('A', 'V', 'B', 'G', 'Y', 'G'), ('A', 'V', 'B', 'G', 'G', 'Y'), ('A', 'V', 'B', 'Y', 'G', 'G'), ('A', 'V', 'B', 'Y', 'G', 'G'), ('A', 'V', 'B', 'G', 'G', 'Y'), ('A', 'V', 'B', 'G', 'Y', 'G'), ('A', 'V', 'G', 'B', 'Y', 'G'), ('A', 'V', 'G', 'B', 'G', 'Y'), ('A', 'V', 'G', 'Y', 'B', 'G'), ('A', 'V', 'G', 'Y', 'G', 'B'), ('A', 'V', 'G', 'G', 'B', 'Y'), ('A', 'V', 'G', 'G', 'Y', 'B'), ('A', 'V', 'Y', 'B', 'G', 'G'), ('A', 'V', 'Y', 'B', 'G', 'G'), ('A', 'V', 'Y', 'G', 'B', 'G'), ('A', 'V', 'Y', 'G', 'G', 'B'), ('A', 'V', 'Y', 'G', 'B', 'G'), ('A', 'V', 'Y', 'G', 'G', 'B'), ('A', 'V', 'G', 'B', 'G', 'Y'), ('A', 'V', 'G', 'B', 'Y', 'G'), ('A', 'V', 'G', 'G', 'B', 'Y'), ('A', 'V', 'G', 'G', 'Y', 'B'), ('A', 'V', 'G', 'Y', 'B', 'G'), ('A', 'V', 'G', 'Y', 'G', 'B'), ('A', 'Y', 'B', 'G', 'V', 'G'), ('A', 'Y', 'B', 'G', 'G', 'V'), ('A', 'Y', 'B', 'V', 'G', 'G'), ('A', 'Y', 'B', 'V', 'G', 'G'), ('A', 'Y', 'B', 'G', 'G', 'V'), ('A', 'Y', 'B', 'G', 'V', 'G'), ('A', 'Y', 'G', 'B', 'V', 'G'), ('A', 'Y', 'G', 'B', 'G', 'V'), ('A', 'Y', 'G', 'V', 'B', 'G'), ('A', 'Y', 'G', 'V', 'G', 'B'), ('A', 'Y', 'G', 'G', 'B', 'V'), ('A', 'Y', 'G', 'G', 'V', 'B'), ('A', 'Y', 'V', 'B', 'G', 'G'), ('A', 'Y', 'V', 'B', 'G', 'G'), ('A', 'Y', 'V', 'G', 'B', 'G'), ('A', 'Y', 'V', 'G', 'G', 'B'), ('A', 'Y', 'V', 'G', 'B', 'G'), ('A', 'Y', 'V', 'G', 'G', 'B'), ('A', 'Y', 'G', 'B', 'G', 'V'), ('A', 'Y', 'G', 'B', 'V', 'G'), ('A', 'Y', 'G', 'G', 'B', 'V'), ('A', 'Y', 'G', 'G', 'V', 'B'), ('A', 'Y', 'G', 'V', 'B', 'G'), ('A', 'Y', 'G', 'V', 'G', 'B'), ('A', 'G', 'B', 'G', 'V', 'Y'), ('A', 'G', 'B', 'G', 'Y', 'V'), ('A', 'G', 'B', 'V', 'G', 'Y'), ('A', 'G', 'B', 'V', 'Y', 'G'), ('A', 'G', 'B', 'Y', 'G', 'V'), ('A', 'G', 'B', 'Y', 'V', 'G'), ('A', 'G', 'G', 'B', 'V', 'Y'), ('A', 'G', 'G', 'B', 'Y', 'V'), ('A', 'G', 'G', 'V', 'B', 'Y'), ('A', 'G', 'G', 'V', 'Y', 'B'), ('A', 'G', 'G', 'Y', 'B', 'V'), ('A', 'G', 'G', 'Y', 'V', 'B'), ('A', 'G', 'V', 'B', 'G', 'Y'), ('A', 'G', 'V', 'B', 'Y', 'G'), ('A', 'G', 'V', 'G', 'B', 'Y'), ('A', 'G', 'V', 'G', 'Y', 'B'), ('A', 'G', 'V', 'Y', 'B', 'G'), ('A', 'G', 'V', 'Y', 'G', 'B'), ('A', 'G', 'Y', 'B', 'G', 'V'), ('A', 'G', 'Y', 'B', 'V', 'G'), ('A', 'G', 'Y', 'G', 'B', 'V'), ('A', 'G', 'Y', 'G', 'V', 'B'), ('A', 'G', 'Y', 'V', 'B', 'G'), ('A', 'G', 'Y', 'V', 'G', 'B'), ('B', 'A', 'G', 'V', 'Y', 'G'), ('B', 'A', 'G', 'V', 'G', 'Y'), ('B', 'A', 'G', 'Y', 'V', 'G'), ('B', 'A', 'G', 'Y', 'G', 'V'), ('B', 'A', 'G', 'G', 'V', 'Y'), ('B', 'A', 'G', 'G', 'Y', 'V'), ('B', 'A', 'V', 'G', 'Y', 'G'), ('B', 'A', 'V', 'G', 'G', 'Y'), ('B', 'A', 'V', 'Y', 'G', 'G'), ('B', 'A', 'V', 'Y', 'G', 'G'), ('B', 'A', 'V', 'G', 'G', 'Y'), ('B', 'A', 'V', 'G', 'Y', 'G'), ('B', 'A', 'Y', 'G', 'V', 'G'), ('B', 'A', 'Y', 'G', 'G', 'V'), ('B', 'A', 'Y', 'V', 'G', 'G'), ('B', 'A', 'Y', 'V', 'G', 'G'), ('B', 'A', 'Y', 'G', 'G', 'V'), ('B', 'A', 'Y', 'G', 'V', 'G'), ('B', 'A', 'G', 'G', 'V', 'Y'), ('B', 'A', 'G', 'G', 'Y', 'V'), ('B', 'A', 'G', 'V', 'G', 'Y'), ('B', 'A', 'G', 'V', 'Y', 'G'), ('B', 'A', 'G', 'Y', 'G', 'V'), ('B', 'A', 'G', 'Y', 'V', 'G'), ('B', 'G', 'A', 'V', 'Y', 'G'), ('B', 'G', 'A', 'V', 'G', 'Y'), ('B', 'G', 'A', 'Y', 'V', 'G'), ('B', 'G', 'A', 'Y', 'G', 'V'), ('B', 'G', 'A', 'G', 'V', 'Y'), ('B', 'G', 'A', 'G', 'Y', 'V'), ('B', 'G', 'V', 'A', 'Y', 'G'), ('B', 'G', 'V', 'A', 'G', 'Y'), ('B', 'G', 'V', 'Y', 'A', 'G'), ('B', 'G', 'V', 'Y', 'G', 'A'), ('B', 'G', 'V', 'G', 'A', 'Y'), ('B', 'G', 'V', 'G', 'Y', 'A'), ('B', 'G', 'Y', 'A', 'V', 'G'), ('B', 'G', 'Y', 'A', 'G', 'V'), ('B', 'G', 'Y', 'V', 'A', 'G'), ('B', 'G', 'Y', 'V', 'G', 'A'), ('B', 'G', 'Y', 'G', 'A', 'V'), ('B', 'G', 'Y', 'G', 'V', 'A'), ('B', 'G', 'G', 'A', 'V', 'Y'), ('B', 'G', 'G', 'A', 'Y', 'V'), ('B', 'G', 'G', 'V', 'A', 'Y'), ('B', 'G', 'G', 'V', 'Y', 'A'), ('B', 'G', 'G', 'Y', 'A', 'V'), ('B', 'G', 'G', 'Y', 'V', 'A'), ('B', 'V', 'A', 'G', 'Y', 'G'), ('B', 'V', 'A', 'G', 'G', 'Y'), ('B', 'V', 'A', 'Y', 'G', 'G'), ('B', 'V', 'A', 'Y', 'G', 'G'), ('B', 'V', 'A', 'G', 'G', 'Y'), ('B', 'V', 'A', 'G', 'Y', 'G'), ('B', 'V', 'G', 'A', 'Y', 'G'), ('B', 'V', 'G', 'A', 'G', 'Y'), ('B', 'V', 'G', 'Y', 'A', 'G'), ('B', 'V', 'G', 'Y', 'G', 'A'), ('B', 'V', 'G', 'G', 'A', 'Y'), ('B', 'V', 'G', 'G', 'Y', 'A'), ('B', 'V', 'Y', 'A', 'G', 'G'), ('B', 'V', 'Y', 'A', 'G', 'G'), ('B', 'V', 'Y', 'G', 'A', 'G'), ('B', 'V', 'Y', 'G', 'G', 'A'), ('B', 'V', 'Y', 'G', 'A', 'G'), ('B', 'V', 'Y', 'G', 'G', 'A'), ('B', 'V', 'G', 'A', 'G', 'Y'), ('B', 'V', 'G', 'A', 'Y', 'G'), ('B', 'V', 'G', 'G', 'A', 'Y'), ('B', 'V', 'G', 'G', 'Y', 'A'), ('B', 'V', 'G', 'Y', 'A', 'G'), ('B', 'V', 'G', 'Y', 'G', 'A'), ('B', 'Y', 'A', 'G', 'V', 'G'), ('B', 'Y', 'A', 'G', 'G', 'V'), ('B', 'Y', 'A', 'V', 'G', 'G'), ('B', 'Y', 'A', 'V', 'G', 'G'), ('B', 'Y', 'A', 'G', 'G', 'V'), ('B', 'Y', 'A', 'G', 'V', 'G'), ('B', 'Y', 'G', 'A', 'V', 'G'), ('B', 'Y', 'G', 'A', 'G', 'V'), ('B', 'Y', 'G', 'V', 'A', 'G'), ('B', 'Y', 'G', 'V', 'G', 'A'), ('B', 'Y', 'G', 'G', 'A', 'V'), ('B', 'Y', 'G', 'G', 'V', 'A'), ('B', 'Y', 'V', 'A', 'G', 'G'), ('B', 'Y', 'V', 'A', 'G', 'G'), ('B', 'Y', 'V', 'G', 'A', 'G'), ('B', 'Y', 'V', 'G', 'G', 'A'), ('B', 'Y', 'V', 'G', 'A', 'G'), ('B', 'Y', 'V', 'G', 'G', 'A'), ('B', 'Y', 'G', 'A', 'G', 'V'), ('B', 'Y', 'G', 'A', 'V', 'G'), ('B', 'Y', 'G', 'G', 'A', 'V'), ('B', 'Y', 'G', 'G', 'V', 'A'), ('B', 'Y', 'G', 'V', 'A', 'G'), ('B', 'Y', 'G', 'V', 'G', 'A'), ('B', 'G', 'A', 'G', 'V', 'Y'), ('B', 'G', 'A', 'G', 'Y', 'V'), ('B', 'G', 'A', 'V', 'G', 'Y'), ('B', 'G', 'A', 'V', 'Y', 'G'), ('B', 'G', 'A', 'Y', 'G', 'V'), ('B', 'G', 'A', 'Y', 'V', 'G'), ('B', 'G', 'G', 'A', 'V', 'Y'), ('B', 'G', 'G', 'A', 'Y', 'V'), ('B', 'G', 'G', 'V', 'A', 'Y'), ('B', 'G', 'G', 'V', 'Y', 'A'), ('B', 'G', 'G', 'Y', 'A', 'V'), ('B', 'G', 'G', 'Y', 'V', 'A'), ('B', 'G', 'V', 'A', 'G', 'Y'), ('B', 'G', 'V', 'A', 'Y', 'G'), ('B', 'G', 'V', 'G', 'A', 'Y'), ('B', 'G', 'V', 'G', 'Y', 'A'), ('B', 'G', 'V', 'Y', 'A', 'G'), ('B', 'G', 'V', 'Y', 'G', 'A'), ('B', 'G', 'Y', 'A', 'G', 'V'), ('B', 'G', 'Y', 'A', 'V', 'G'), ('B', 'G', 'Y', 'G', 'A', 'V'), ('B', 'G', 'Y', 'G', 'V', 'A'), ('B', 'G', 'Y', 'V', 'A', 'G'), ('B', 'G', 'Y', 'V', 'G', 'A'), ('G', 'A', 'B', 'V', 'Y', 'G'), ('G', 'A', 'B', 'V', 'G', 'Y'), ('G', 'A', 'B', 'Y', 'V', 'G'), ('G', 'A', 'B', 'Y', 'G', 'V'), ('G', 'A', 'B', 'G', 'V', 'Y'), ('G', 'A', 'B', 'G', 'Y', 'V'), ('G', 'A', 'V', 'B', 'Y', 'G'), ('G', 'A', 'V', 'B', 'G', 'Y'), ('G', 'A', 'V', 'Y', 'B', 'G'), ('G', 'A', 'V', 'Y', 'G', 'B'), ('G', 'A', 'V', 'G', 'B', 'Y'), ('G', 'A', 'V', 'G', 'Y', 'B'), ('G', 'A', 'Y', 'B', 'V', 'G'), ('G', 'A', 'Y', 'B', 'G', 'V'), ('G', 'A', 'Y', 'V', 'B', 'G'), ('G', 'A', 'Y', 'V', 'G', 'B'), ('G', 'A', 'Y', 'G', 'B', 'V'), ('G', 'A', 'Y', 'G', 'V', 'B'), ('G', 'A', 'G', 'B', 'V', 'Y'), ('G', 'A', 'G', 'B', 'Y', 'V'), ('G', 'A', 'G', 'V', 'B', 'Y'), ('G', 'A', 'G', 'V', 'Y', 'B'), ('G', 'A', 'G', 'Y', 'B', 'V'), ('G', 'A', 'G', 'Y', 'V', 'B'), ('G', 'B', 'A', 'V', 'Y', 'G'), ('G', 'B', 'A', 'V', 'G', 'Y'), ('G', 'B', 'A', 'Y', 'V', 'G'), ('G', 'B', 'A', 'Y', 'G', 'V'), ('G', 'B', 'A', 'G', 'V', 'Y'), ('G', 'B', 'A', 'G', 'Y', 'V'), ('G', 'B', 'V', 'A', 'Y', 'G'), ('G', 'B', 'V', 'A', 'G', 'Y'), ('G', 'B', 'V', 'Y', 'A', 'G'), ('G', 'B', 'V', 'Y', 'G', 'A'), ('G', 'B', 'V', 'G', 'A', 'Y'), ('G', 'B', 'V', 'G', 'Y', 'A'), ('G', 'B', 'Y', 'A', 'V', 'G'), ('G', 'B', 'Y', 'A', 'G', 'V'), ('G', 'B', 'Y', 'V', 'A', 'G'), ('G', 'B', 'Y', 'V', 'G', 'A'), ('G', 'B', 'Y', 'G', 'A', 'V'), ('G', 'B', 'Y', 'G', 'V', 'A'), ('G', 'B', 'G', 'A', 'V', 'Y'), ('G', 'B', 'G', 'A', 'Y', 'V'), ('G', 'B', 'G', 'V', 'A', 'Y'), ('G', 'B', 'G', 'V', 'Y', 'A'), ('G', 'B', 'G', 'Y', 'A', 'V'), ('G', 'B', 'G', 'Y', 'V', 'A'), ('G', 'V', 'A', 'B', 'Y', 'G'), ('G', 'V', 'A', 'B', 'G', 'Y'), ('G', 'V', 'A', 'Y', 'B', 'G'), ('G', 'V', 'A', 'Y', 'G', 'B'), ('G', 'V', 'A', 'G', 'B', 'Y'), ('G', 'V', 'A', 'G', 'Y', 'B'), ('G', 'V', 'B', 'A', 'Y', 'G'), ('G', 'V', 'B', 'A', 'G', 'Y'), ('G', 'V', 'B', 'Y', 'A', 'G'), ('G', 'V', 'B', 'Y', 'G', 'A'), ('G', 'V', 'B', 'G', 'A', 'Y'), ('G', 'V', 'B', 'G', 'Y', 'A'), ('G', 'V', 'Y', 'A', 'B', 'G'), ('G', 'V', 'Y', 'A', 'G', 'B'), ('G', 'V', 'Y', 'B', 'A', 'G'), ('G', 'V', 'Y', 'B', 'G', 'A'), ('G', 'V', 'Y', 'G', 'A', 'B'), ('G', 'V', 'Y', 'G', 'B', 'A'), ('G', 'V', 'G', 'A', 'B', 'Y'), ('G', 'V', 'G', 'A', 'Y', 'B'), ('G', 'V', 'G', 'B', 'A', 'Y'), ('G', 'V', 'G', 'B', 'Y', 'A'), ('G', 'V', 'G', 'Y', 'A', 'B'), ('G', 'V', 'G', 'Y', 'B', 'A'), ('G', 'Y', 'A', 'B', 'V', 'G'), ('G', 'Y', 'A', 'B', 'G', 'V'), ('G', 'Y', 'A', 'V', 'B', 'G'), ('G', 'Y', 'A', 'V', 'G', 'B'), ('G', 'Y', 'A', 'G', 'B', 'V'), ('G', 'Y', 'A', 'G', 'V', 'B'), ('G', 'Y', 'B', 'A', 'V', 'G'), ('G', 'Y', 'B', 'A', 'G', 'V'), ('G', 'Y', 'B', 'V', 'A', 'G'), ('G', 'Y', 'B', 'V', 'G', 'A'), ('G', 'Y', 'B', 'G', 'A', 'V'), ('G', 'Y', 'B', 'G', 'V', 'A'), ('G', 'Y', 'V', 'A', 'B', 'G'), ('G', 'Y', 'V', 'A', 'G', 'B'), ('G', 'Y', 'V', 'B', 'A', 'G'), ('G', 'Y', 'V', 'B', 'G', 'A'), ('G', 'Y', 'V', 'G', 'A', 'B'), ('G', 'Y', 'V', 'G', 'B', 'A'), ('G', 'Y', 'G', 'A', 'B', 'V'), ('G', 'Y', 'G', 'A', 'V', 'B'), ('G', 'Y', 'G', 'B', 'A', 'V'), ('G', 'Y', 'G', 'B', 'V', 'A'), ('G', 'Y', 'G', 'V', 'A', 'B'), ('G', 'Y', 'G', 'V', 'B', 'A'), ('G', 'G', 'A', 'B', 'V', 'Y'), ('G', 'G', 'A', 'B', 'Y', 'V'), ('G', 'G', 'A', 'V', 'B', 'Y'), ('G', 'G', 'A', 'V', 'Y', 'B'), ('G', 'G', 'A', 'Y', 'B', 'V'), ('G', 'G', 'A', 'Y', 'V', 'B'), ('G', 'G', 'B', 'A', 'V', 'Y'), ('G', 'G', 'B', 'A', 'Y', 'V'), ('G', 'G', 'B', 'V', 'A', 'Y'), ('G', 'G', 'B', 'V', 'Y', 'A'), ('G', 'G', 'B', 'Y', 'A', 'V'), ('G', 'G', 'B', 'Y', 'V', 'A'), ('G', 'G', 'V', 'A', 'B', 'Y'), ('G', 'G', 'V', 'A', 'Y', 'B'), ('G', 'G', 'V', 'B', 'A', 'Y'), ('G', 'G', 'V', 'B', 'Y', 'A'), ('G', 'G', 'V', 'Y', 'A', 'B'), ('G', 'G', 'V', 'Y', 'B', 'A'), ('G', 'G', 'Y', 'A', 'B', 'V'), ('G', 'G', 'Y', 'A', 'V', 'B'), ('G', 'G', 'Y', 'B', 'A', 'V'), ('G', 'G', 'Y', 'B', 'V', 'A'), ('G', 'G', 'Y', 'V', 'A', 'B'), ('G', 'G', 'Y', 'V', 'B', 'A'), ('V', 'A', 'B', 'G', 'Y', 'G'), ('V', 'A', 'B', 'G', 'G', 'Y'), ('V', 'A', 'B', 'Y', 'G', 'G'), ('V', 'A', 'B', 'Y', 'G', 'G'), ('V', 'A', 'B', 'G', 'G', 'Y'), ('V', 'A', 'B', 'G', 'Y', 'G'), ('V', 'A', 'G', 'B', 'Y', 'G'), ('V', 'A', 'G', 'B', 'G', 'Y'), ('V', 'A', 'G', 'Y', 'B', 'G'), ('V', 'A', 'G', 'Y', 'G', 'B'), ('V', 'A', 'G', 'G', 'B', 'Y'), ('V', 'A', 'G', 'G', 'Y', 'B'), ('V', 'A', 'Y', 'B', 'G', 'G'), ('V', 'A', 'Y', 'B', 'G', 'G'), ('V', 'A', 'Y', 'G', 'B', 'G'), ('V', 'A', 'Y', 'G', 'G', 'B'), ('V', 'A', 'Y', 'G', 'B', 'G'), ('V', 'A', 'Y', 'G', 'G', 'B'), ('V', 'A', 'G', 'B', 'G', 'Y'), ('V', 'A', 'G', 'B', 'Y', 'G'), ('V', 'A', 'G', 'G', 'B', 'Y'), ('V', 'A', 'G', 'G', 'Y', 'B'), ('V', 'A', 'G', 'Y', 'B', 'G'), ('V', 'A', 'G', 'Y', 'G', 'B'), ('V', 'B', 'A', 'G', 'Y', 'G'), ('V', 'B', 'A', 'G', 'G', 'Y'), ('V', 'B', 'A', 'Y', 'G', 'G'), ('V', 'B', 'A', 'Y', 'G', 'G'), ('V', 'B', 'A', 'G', 'G', 'Y'), ('V', 'B', 'A', 'G', 'Y', 'G'), ('V', 'B', 'G', 'A', 'Y', 'G'), ('V', 'B', 'G', 'A', 'G', 'Y'), ('V', 'B', 'G', 'Y', 'A', 'G'), ('V', 'B', 'G', 'Y', 'G', 'A'), ('V', 'B', 'G', 'G', 'A', 'Y'), ('V', 'B', 'G', 'G', 'Y', 'A'), ('V', 'B', 'Y', 'A', 'G', 'G'), ('V', 'B', 'Y', 'A', 'G', 'G'), ('V', 'B', 'Y', 'G', 'A', 'G'), ('V', 'B', 'Y', 'G', 'G', 'A'), ('V', 'B', 'Y', 'G', 'A', 'G'), ('V', 'B', 'Y', 'G', 'G', 'A'), ('V', 'B', 'G', 'A', 'G', 'Y'), ('V', 'B', 'G', 'A', 'Y', 'G'), ('V', 'B', 'G', 'G', 'A', 'Y'), ('V', 'B', 'G', 'G', 'Y', 'A'), ('V', 'B', 'G', 'Y', 'A', 'G'), ('V', 'B', 'G', 'Y', 'G', 'A'), ('V', 'G', 'A', 'B', 'Y', 'G'), ('V', 'G', 'A', 'B', 'G', 'Y'), ('V', 'G', 'A', 'Y', 'B', 'G'), ('V', 'G', 'A', 'Y', 'G', 'B'), ('V', 'G', 'A', 'G', 'B', 'Y'), ('V', 'G', 'A', 'G', 'Y', 'B'), ('V', 'G', 'B', 'A', 'Y', 'G'), ('V', 'G', 'B', 'A', 'G', 'Y'), ('V', 'G', 'B', 'Y', 'A', 'G'), ('V', 'G', 'B', 'Y', 'G', 'A'), ('V', 'G', 'B', 'G', 'A', 'Y'), ('V', 'G', 'B', 'G', 'Y', 'A'), ('V', 'G', 'Y', 'A', 'B', 'G'), ('V', 'G', 'Y', 'A', 'G', 'B'), ('V', 'G', 'Y', 'B', 'A', 'G'), ('V', 'G', 'Y', 'B', 'G', 'A'), ('V', 'G', 'Y', 'G', 'A', 'B'), ('V', 'G', 'Y', 'G', 'B', 'A'), ('V', 'G', 'G', 'A', 'B', 'Y'), ('V', 'G', 'G', 'A', 'Y', 'B'), ('V', 'G', 'G', 'B', 'A', 'Y'), ('V', 'G', 'G', 'B', 'Y', 'A'), ('V', 'G', 'G', 'Y', 'A', 'B'), ('V', 'G', 'G', 'Y', 'B', 'A'), ('V', 'Y', 'A', 'B', 'G', 'G'), ('V', 'Y', 'A', 'B', 'G', 'G'), ('V', 'Y', 'A', 'G', 'B', 'G'), ('V', 'Y', 'A', 'G', 'G', 'B'), ('V', 'Y', 'A', 'G', 'B', 'G'), ('V', 'Y', 'A', 'G', 'G', 'B'), ('V', 'Y', 'B', 'A', 'G', 'G'), ('V', 'Y', 'B', 'A', 'G', 'G'), ('V', 'Y', 'B', 'G', 'A', 'G'), ('V', 'Y', 'B', 'G', 'G', 'A'), ('V', 'Y', 'B', 'G', 'A', 'G'), ('V', 'Y', 'B', 'G', 'G', 'A'), ('V', 'Y', 'G', 'A', 'B', 'G'), ('V', 'Y', 'G', 'A', 'G', 'B'), ('V', 'Y', 'G', 'B', 'A', 'G'), ('V', 'Y', 'G', 'B', 'G', 'A'), ('V', 'Y', 'G', 'G', 'A', 'B'), ('V', 'Y', 'G', 'G', 'B', 'A'), ('V', 'Y', 'G', 'A', 'B', 'G'), ('V', 'Y', 'G', 'A', 'G', 'B'), ('V', 'Y', 'G', 'B', 'A', 'G'), ('V', 'Y', 'G', 'B', 'G', 'A'), ('V', 'Y', 'G', 'G', 'A', 'B'), ('V', 'Y', 'G', 'G', 'B', 'A'), ('V', 'G', 'A', 'B', 'G', 'Y'), ('V', 'G', 'A', 'B', 'Y', 'G'), ('V', 'G', 'A', 'G', 'B', 'Y'), ('V', 'G', 'A', 'G', 'Y', 'B'), ('V', 'G', 'A', 'Y', 'B', 'G'), ('V', 'G', 'A', 'Y', 'G', 'B'), ('V', 'G', 'B', 'A', 'G', 'Y'), ('V', 'G', 'B', 'A', 'Y', 'G'), ('V', 'G', 'B', 'G', 'A', 'Y'), ('V', 'G', 'B', 'G', 'Y', 'A'), ('V', 'G', 'B', 'Y', 'A', 'G'), ('V', 'G', 'B', 'Y', 'G', 'A'), ('V', 'G', 'G', 'A', 'B', 'Y'), ('V', 'G', 'G', 'A', 'Y', 'B'), ('V', 'G', 'G', 'B', 'A', 'Y'), ('V', 'G', 'G', 'B', 'Y', 'A'), ('V', 'G', 'G', 'Y', 'A', 'B'), ('V', 'G', 'G', 'Y', 'B', 'A'), ('V', 'G', 'Y', 'A', 'B', 'G'), ('V', 'G', 'Y', 'A', 'G', 'B'), ('V', 'G', 'Y', 'B', 'A', 'G'), ('V', 'G', 'Y', 'B', 'G', 'A'), ('V', 'G', 'Y', 'G', 'A', 'B'), ('V', 'G', 'Y', 'G', 'B', 'A'), ('Y', 'A', 'B', 'G', 'V', 'G'), ('Y', 'A', 'B', 'G', 'G', 'V'), ('Y', 'A', 'B', 'V', 'G', 'G'), ('Y', 'A', 'B', 'V', 'G', 'G'), ('Y', 'A', 'B', 'G', 'G', 'V'), ('Y', 'A', 'B', 'G', 'V', 'G'), ('Y', 'A', 'G', 'B', 'V', 'G'), ('Y', 'A', 'G', 'B', 'G', 'V'), ('Y', 'A', 'G', 'V', 'B', 'G'), ('Y', 'A', 'G', 'V', 'G', 'B'), ('Y', 'A', 'G', 'G', 'B', 'V'), ('Y', 'A', 'G', 'G', 'V', 'B'), ('Y', 'A', 'V', 'B', 'G', 'G'), ('Y', 'A', 'V', 'B', 'G', 'G'), ('Y', 'A', 'V', 'G', 'B', 'G'), ('Y', 'A', 'V', 'G', 'G', 'B'), ('Y', 'A', 'V', 'G', 'B', 'G'), ('Y', 'A', 'V', 'G', 'G', 'B'), ('Y', 'A', 'G', 'B', 'G', 'V'), ('Y', 'A', 'G', 'B', 'V', 'G'), ('Y', 'A', 'G', 'G', 'B', 'V'), ('Y', 'A', 'G', 'G', 'V', 'B'), ('Y', 'A', 'G', 'V', 'B', 'G'), ('Y', 'A', 'G', 'V', 'G', 'B'), ('Y', 'B', 'A', 'G', 'V', 'G'), ('Y', 'B', 'A', 'G', 'G', 'V'), ('Y', 'B', 'A', 'V', 'G', 'G'), ('Y', 'B', 'A', 'V', 'G', 'G'), ('Y', 'B', 'A', 'G', 'G', 'V'), ('Y', 'B', 'A', 'G', 'V', 'G'), ('Y', 'B', 'G', 'A', 'V', 'G'), ('Y', 'B', 'G', 'A', 'G', 'V'), ('Y', 'B', 'G', 'V', 'A', 'G'), ('Y', 'B', 'G', 'V', 'G', 'A'), ('Y', 'B', 'G', 'G', 'A', 'V'), ('Y', 'B', 'G', 'G', 'V', 'A'), ('Y', 'B', 'V', 'A', 'G', 'G'), ('Y', 'B', 'V', 'A', 'G', 'G'), ('Y', 'B', 'V', 'G', 'A', 'G'), ('Y', 'B', 'V', 'G', 'G', 'A'), ('Y', 'B', 'V', 'G', 'A', 'G'), ('Y', 'B', 'V', 'G', 'G', 'A'), ('Y', 'B', 'G', 'A', 'G', 'V'), ('Y', 'B', 'G', 'A', 'V', 'G'), ('Y', 'B', 'G', 'G', 'A', 'V'), ('Y', 'B', 'G', 'G', 'V', 'A'), ('Y', 'B', 'G', 'V', 'A', 'G'), ('Y', 'B', 'G', 'V', 'G', 'A'), ('Y', 'G', 'A', 'B', 'V', 'G'), ('Y', 'G', 'A', 'B', 'G', 'V'), ('Y', 'G', 'A', 'V', 'B', 'G'), ('Y', 'G', 'A', 'V', 'G', 'B'), ('Y', 'G', 'A', 'G', 'B', 'V'), ('Y', 'G', 'A', 'G', 'V', 'B'), ('Y', 'G', 'B', 'A', 'V', 'G'), ('Y', 'G', 'B', 'A', 'G', 'V'), ('Y', 'G', 'B', 'V', 'A', 'G'), ('Y', 'G', 'B', 'V', 'G', 'A'), ('Y', 'G', 'B', 'G', 'A', 'V'), ('Y', 'G', 'B', 'G', 'V', 'A'), ('Y', 'G', 'V', 'A', 'B', 'G'), ('Y', 'G', 'V', 'A', 'G', 'B'), ('Y', 'G', 'V', 'B', 'A', 'G'), ('Y', 'G', 'V', 'B', 'G', 'A'), ('Y', 'G', 'V', 'G', 'A', 'B'), ('Y', 'G', 'V', 'G', 'B', 'A'), ('Y', 'G', 'G', 'A', 'B', 'V'), ('Y', 'G', 'G', 'A', 'V', 'B'), ('Y', 'G', 'G', 'B', 'A', 'V'), ('Y', 'G', 'G', 'B', 'V', 'A'), ('Y', 'G', 'G', 'V', 'A', 'B'), ('Y', 'G', 'G', 'V', 'B', 'A'), ('Y', 'V', 'A', 'B', 'G', 'G'), ('Y', 'V', 'A', 'B', 'G', 'G'), ('Y', 'V', 'A', 'G', 'B', 'G'), ('Y', 'V', 'A', 'G', 'G', 'B'), ('Y', 'V', 'A', 'G', 'B', 'G'), ('Y', 'V', 'A', 'G', 'G', 'B'), ('Y', 'V', 'B', 'A', 'G', 'G'), ('Y', 'V', 'B', 'A', 'G', 'G'), ('Y', 'V', 'B', 'G', 'A', 'G'), ('Y', 'V', 'B', 'G', 'G', 'A'), ('Y', 'V', 'B', 'G', 'A', 'G'), ('Y', 'V', 'B', 'G', 'G', 'A'), ('Y', 'V', 'G', 'A', 'B', 'G'), ('Y', 'V', 'G', 'A', 'G', 'B'), ('Y', 'V', 'G', 'B', 'A', 'G'), ('Y', 'V', 'G', 'B', 'G', 'A'), ('Y', 'V', 'G', 'G', 'A', 'B'), ('Y', 'V', 'G', 'G', 'B', 'A'), ('Y', 'V', 'G', 'A', 'B', 'G'), ('Y', 'V', 'G', 'A', 'G', 'B'), ('Y', 'V', 'G', 'B', 'A', 'G'), ('Y', 'V', 'G', 'B', 'G', 'A'), ('Y', 'V', 'G', 'G', 'A', 'B'), ('Y', 'V', 'G', 'G', 'B', 'A'), ('Y', 'G', 'A', 'B', 'G', 'V'), ('Y', 'G', 'A', 'B', 'V', 'G'), ('Y', 'G', 'A', 'G', 'B', 'V'), ('Y', 'G', 'A', 'G', 'V', 'B'), ('Y', 'G', 'A', 'V', 'B', 'G'), ('Y', 'G', 'A', 'V', 'G', 'B'), ('Y', 'G', 'B', 'A', 'G', 'V'), ('Y', 'G', 'B', 'A', 'V', 'G'), ('Y', 'G', 'B', 'G', 'A', 'V'), ('Y', 'G', 'B', 'G', 'V', 'A'), ('Y', 'G', 'B', 'V', 'A', 'G'), ('Y', 'G', 'B', 'V', 'G', 'A'), ('Y', 'G', 'G', 'A', 'B', 'V'), ('Y', 'G', 'G', 'A', 'V', 'B'), ('Y', 'G', 'G', 'B', 'A', 'V'), ('Y', 'G', 'G', 'B', 'V', 'A'), ('Y', 'G', 'G', 'V', 'A', 'B'), ('Y', 'G', 'G', 'V', 'B', 'A'), ('Y', 'G', 'V', 'A', 'B', 'G'), ('Y', 'G', 'V', 'A', 'G', 'B'), ('Y', 'G', 'V', 'B', 'A', 'G'), ('Y', 'G', 'V', 'B', 'G', 'A'), ('Y', 'G', 'V', 'G', 'A', 'B'), ('Y', 'G', 'V', 'G', 'B', 'A'), ('G', 'A', 'B', 'G', 'V', 'Y'), ('G', 'A', 'B', 'G', 'Y', 'V'), ('G', 'A', 'B', 'V', 'G', 'Y'), ('G', 'A', 'B', 'V', 'Y', 'G'), ('G', 'A', 'B', 'Y', 'G', 'V'), ('G', 'A', 'B', 'Y', 'V', 'G'), ('G', 'A', 'G', 'B', 'V', 'Y'), ('G', 'A', 'G', 'B', 'Y', 'V'), ('G', 'A', 'G', 'V', 'B', 'Y'), ('G', 'A', 'G', 'V', 'Y', 'B'), ('G', 'A', 'G', 'Y', 'B', 'V'), ('G', 'A', 'G', 'Y', 'V', 'B'), ('G', 'A', 'V', 'B', 'G', 'Y'), ('G', 'A', 'V', 'B', 'Y', 'G'), ('G', 'A', 'V', 'G', 'B', 'Y'), ('G', 'A', 'V', 'G', 'Y', 'B'), ('G', 'A', 'V', 'Y', 'B', 'G'), ('G', 'A', 'V', 'Y', 'G', 'B'), ('G', 'A', 'Y', 'B', 'G', 'V'), ('G', 'A', 'Y', 'B', 'V', 'G'), ('G', 'A', 'Y', 'G', 'B', 'V'), ('G', 'A', 'Y', 'G', 'V', 'B'), ('G', 'A', 'Y', 'V', 'B', 'G'), ('G', 'A', 'Y', 'V', 'G', 'B'), ('G', 'B', 'A', 'G', 'V', 'Y'), ('G', 'B', 'A', 'G', 'Y', 'V'), ('G', 'B', 'A', 'V', 'G', 'Y'), ('G', 'B', 'A', 'V', 'Y', 'G'), ('G', 'B', 'A', 'Y', 'G', 'V'), ('G', 'B', 'A', 'Y', 'V', 'G'), ('G', 'B', 'G', 'A', 'V', 'Y'), ('G', 'B', 'G', 'A', 'Y', 'V'), ('G', 'B', 'G', 'V', 'A', 'Y'), ('G', 'B', 'G', 'V', 'Y', 'A'), ('G', 'B', 'G', 'Y', 'A', 'V'), ('G', 'B', 'G', 'Y', 'V', 'A'), ('G', 'B', 'V', 'A', 'G', 'Y'), ('G', 'B', 'V', 'A', 'Y', 'G'), ('G', 'B', 'V', 'G', 'A', 'Y'), ('G', 'B', 'V', 'G', 'Y', 'A'), ('G', 'B', 'V', 'Y', 'A', 'G'), ('G', 'B', 'V', 'Y', 'G', 'A'), ('G', 'B', 'Y', 'A', 'G', 'V'), ('G', 'B', 'Y', 'A', 'V', 'G'), ('G', 'B', 'Y', 'G', 'A', 'V'), ('G', 'B', 'Y', 'G', 'V', 'A'), ('G', 'B', 'Y', 'V', 'A', 'G'), ('G', 'B', 'Y', 'V', 'G', 'A'), ('G', 'G', 'A', 'B', 'V', 'Y'), ('G', 'G', 'A', 'B', 'Y', 'V'), ('G', 'G', 'A', 'V', 'B', 'Y'), ('G', 'G', 'A', 'V', 'Y', 'B'), ('G', 'G', 'A', 'Y', 'B', 'V'), ('G', 'G', 'A', 'Y', 'V', 'B'), ('G', 'G', 'B', 'A', 'V', 'Y'), ('G', 'G', 'B', 'A', 'Y', 'V'), ('G', 'G', 'B', 'V', 'A', 'Y'), ('G', 'G', 'B', 'V', 'Y', 'A'), ('G', 'G', 'B', 'Y', 'A', 'V'), ('G', 'G', 'B', 'Y', 'V', 'A'), ('G', 'G', 'V', 'A', 'B', 'Y'), ('G', 'G', 'V', 'A', 'Y', 'B'), ('G', 'G', 'V', 'B', 'A', 'Y'), ('G', 'G', 'V', 'B', 'Y', 'A'), ('G', 'G', 'V', 'Y', 'A', 'B'), ('G', 'G', 'V', 'Y', 'B', 'A'), ('G', 'G', 'Y', 'A', 'B', 'V'), ('G', 'G', 'Y', 'A', 'V', 'B'), ('G', 'G', 'Y', 'B', 'A', 'V'), ('G', 'G', 'Y', 'B', 'V', 'A'), ('G', 'G', 'Y', 'V', 'A', 'B'), ('G', 'G', 'Y', 'V', 'B', 'A'), ('G', 'V', 'A', 'B', 'G', 'Y'), ('G', 'V', 'A', 'B', 'Y', 'G'), ('G', 'V', 'A', 'G', 'B', 'Y'), ('G', 'V', 'A', 'G', 'Y', 'B'), ('G', 'V', 'A', 'Y', 'B', 'G'), ('G', 'V', 'A', 'Y', 'G', 'B'), ('G', 'V', 'B', 'A', 'G', 'Y'), ('G', 'V', 'B', 'A', 'Y', 'G'), ('G', 'V', 'B', 'G', 'A', 'Y'), ('G', 'V', 'B', 'G', 'Y', 'A'), ('G', 'V', 'B', 'Y', 'A', 'G'), ('G', 'V', 'B', 'Y', 'G', 'A'), ('G', 'V', 'G', 'A', 'B', 'Y'), ('G', 'V', 'G', 'A', 'Y', 'B'), ('G', 'V', 'G', 'B', 'A', 'Y'), ('G', 'V', 'G', 'B', 'Y', 'A'), ('G', 'V', 'G', 'Y', 'A', 'B'), ('G', 'V', 'G', 'Y', 'B', 'A'), ('G', 'V', 'Y', 'A', 'B', 'G'), ('G', 'V', 'Y', 'A', 'G', 'B'), ('G', 'V', 'Y', 'B', 'A', 'G'), ('G', 'V', 'Y', 'B', 'G', 'A'), ('G', 'V', 'Y', 'G', 'A', 'B'), ('G', 'V', 'Y', 'G', 'B', 'A'), ('G', 'Y', 'A', 'B', 'G', 'V'), ('G', 'Y', 'A', 'B', 'V', 'G'), ('G', 'Y', 'A', 'G', 'B', 'V'), ('G', 'Y', 'A', 'G', 'V', 'B'), ('G', 'Y', 'A', 'V', 'B', 'G'), ('G', 'Y', 'A', 'V', 'G', 'B'), ('G', 'Y', 'B', 'A', 'G', 'V'), ('G', 'Y', 'B', 'A', 'V', 'G'), ('G', 'Y', 'B', 'G', 'A', 'V'), ('G', 'Y', 'B', 'G', 'V', 'A'), ('G', 'Y', 'B', 'V', 'A', 'G'), ('G', 'Y', 'B', 'V', 'G', 'A'), ('G', 'Y', 'G', 'A', 'B', 'V'), ('G', 'Y', 'G', 'A', 'V', 'B'), ('G', 'Y', 'G', 'B', 'A', 'V'), ('G', 'Y', 'G', 'B', 'V', 'A'), ('G', 'Y', 'G', 'V', 'A', 'B'), ('G', 'Y', 'G', 'V', 'B', 'A'), ('G', 'Y', 'V', 'A', 'B', 'G'), ('G', 'Y', 'V', 'A', 'G', 'B'), ('G', 'Y', 'V', 'B', 'A', 'G'), ('G', 'Y', 'V', 'B', 'G', 'A'), ('G', 'Y', 'V', 'G', 'A', 'B'), ('G', 'Y', 'V', 'G', 'B', 'A')]\n",
            "\n",
            "All the permutations of the given container is:\n",
            "[(0, 1), (0, 2), (0, 3), (0, 4), (1, 0), (1, 2), (1, 3), (1, 4), (2, 0), (2, 1), (2, 3), (2, 4), (3, 0), (3, 1), (3, 2), (3, 4), (4, 0), (4, 1), (4, 2), (4, 3)]\n"
          ]
        }
      ]
    },
    {
      "cell_type": "code",
      "source": [
        "# import combinations from itertools module\n",
        "\n",
        "from itertools import combinations\n",
        "\n",
        "print (\"All the combination of list in sorted order(without replacement) is:\")\n",
        "print(list(combinations(['A', 2], 2)))\n",
        "print()\n",
        "\n",
        "print (\"All the combination of string in sorted order(without replacement) is:\")\n",
        "print(list(combinations('AB', 2)))\n",
        "print()\n",
        "\n",
        "print (\"All the combination of list in sorted order(without replacement) is:\")\n",
        "print(list(combinations(range(2), 1)))\n"
      ],
      "metadata": {
        "colab": {
          "base_uri": "https://localhost:8080/"
        },
        "id": "gu4J75DCKkj3",
        "outputId": "38d60984-c5a7-492e-fabb-2accd9bf5856"
      },
      "execution_count": null,
      "outputs": [
        {
          "output_type": "stream",
          "name": "stdout",
          "text": [
            "All the combination of list in sorted order(without replacement) is:\n",
            "[('A', 2)]\n",
            "\n",
            "All the combination of string in sorted order(without replacement) is:\n",
            "[('A', 'B')]\n",
            "\n",
            "All the combination of list in sorted order(without replacement) is:\n",
            "[(0,), (1,)]\n"
          ]
        }
      ]
    },
    {
      "cell_type": "code",
      "source": [
        "# import combinations from itertools module\n",
        "\n",
        "from itertools import combinations_with_replacement\n",
        "\n",
        "print(\"All the combination of string in sorted order(with replacement) is:\")\n",
        "print(list(combinations_with_replacement(\"AB\", 2)))\n",
        "print()\n",
        "\n",
        "print(\"All the combination of list in sorted order(with replacement) is:\")\n",
        "print(list(combinations_with_replacement([1, 2], 2)))\n",
        "print()\n",
        "\n",
        "print(\"All the combination of container in sorted order(with replacement) is:\")\n",
        "print(list(combinations_with_replacement(range(2), 1)))\n"
      ],
      "metadata": {
        "colab": {
          "base_uri": "https://localhost:8080/"
        },
        "id": "Xw_TrManK2Hr",
        "outputId": "6f9b2849-909b-4f05-d677-e7737b4bf908"
      },
      "execution_count": null,
      "outputs": [
        {
          "output_type": "stream",
          "name": "stdout",
          "text": [
            "All the combination of string in sorted order(with replacement) is:\n",
            "[('A', 'A'), ('A', 'B'), ('B', 'B')]\n",
            "\n",
            "All the combination of list in sorted order(with replacement) is:\n",
            "[(1, 1), (1, 2), (2, 2)]\n",
            "\n",
            "All the combination of container in sorted order(with replacement) is:\n",
            "[(0,), (1,)]\n"
          ]
        }
      ]
    },
    {
      "cell_type": "code",
      "source": [
        "# Python code to demonstrate the working of\n",
        "# accumulate()\n",
        "\n",
        "\n",
        "import itertools\n",
        "import operator\n",
        "\n",
        "# initializing list 1\n",
        "li1 = [1, 4, 5, 7]\n",
        "\n",
        "# using accumulate()\n",
        "# prints the successive summation of elements\n",
        "print(\"The sum after each iteration is : \", end=\"\")\n",
        "print(list(itertools.accumulate(li1)))\n",
        "\n",
        "# using accumulate()\n",
        "# prints the successive multiplication of elements\n",
        "print(\"The product after each iteration is : \", end=\"\")\n",
        "print(list(itertools.accumulate(li1, operator.mul)))\n",
        "\n",
        "# using accumulate()\n",
        "# prints the successive summation of elements\n",
        "print(\"The sum after each iteration is : \", end=\"\")\n",
        "print(list(itertools.accumulate(li1)))\n",
        "\n",
        "# using accumulate()\n",
        "# prints the successive multiplication of elements\n",
        "print(\"The product after each iteration is : \", end=\"\")\n",
        "print(list(itertools.accumulate(li1, operator.mul)))\n"
      ],
      "metadata": {
        "colab": {
          "base_uri": "https://localhost:8080/"
        },
        "id": "K0WnqwnkSah9",
        "outputId": "5c5b1606-105a-40a1-b4fa-be21a699559d"
      },
      "execution_count": null,
      "outputs": [
        {
          "output_type": "stream",
          "name": "stdout",
          "text": [
            "The sum after each iteration is : [1, 5, 10, 17]\n",
            "The product after each iteration is : [1, 4, 20, 140]\n",
            "The sum after each iteration is : [1, 5, 10, 17]\n",
            "The product after each iteration is : [1, 4, 20, 140]\n"
          ]
        }
      ]
    },
    {
      "cell_type": "markdown",
      "source": [
        "## 2.**chain(iter1, iter2..):** This function is used to print all the values in iterable targets one after another mentioned in its arguments. *italicized text*"
      ],
      "metadata": {
        "id": "LGbCR19HSpMk"
      }
    },
    {
      "cell_type": "code",
      "source": [
        "# Python code to demonstrate the working of\n",
        "# and chain()\n",
        "\n",
        "\n",
        "import itertools\n",
        "\n",
        "# initializing list 1\n",
        "li1 = [1, 4, 5, 7]\n",
        "\n",
        "# initializing list 2\n",
        "li2 = [1, 6, 5, 9]\n",
        "\n",
        "# initializing list 3\n",
        "li3 = [8, 10, 5, 4]\n",
        "\n",
        "# using chain() to print all elements of lists\n",
        "print(\"All values in mentioned chain are : \", end=\"\")\n",
        "print(list(itertools.chain(li1, li2, li3)))\n"
      ],
      "metadata": {
        "colab": {
          "base_uri": "https://localhost:8080/"
        },
        "id": "39B3b2eOStQ6",
        "outputId": "5acf94fc-2cdb-4e98-9b33-5bf441b9c673"
      },
      "execution_count": null,
      "outputs": [
        {
          "output_type": "stream",
          "name": "stdout",
          "text": [
            "All values in mentioned chain are : [1, 4, 5, 7, 1, 6, 5, 9, 8, 10, 5, 4]\n"
          ]
        }
      ]
    },
    {
      "cell_type": "code",
      "source": [
        "# Python code to demonstrate the working of\n",
        "# chain.from_iterable()\n",
        "\n",
        "\n",
        "import itertools\n",
        "\n",
        "\n",
        "# initializing list 1\n",
        "li1 = [1, 4, 5, 7]\n",
        "\n",
        "# initializing list 2\n",
        "li2 = [1, 6, 5, 9]\n",
        "\n",
        "# initializing list 3\n",
        "li3 = [8, 10, 5, 4]\n",
        "\n",
        "# initializing list of list\n",
        "li4 = [li1, li2, li3]\n",
        "\n",
        "# using chain.from_iterable() to print all elements of lists\n",
        "print (\"All values in mentioned chain are : \", end =\"\")\n",
        "print (list(itertools.chain.from_iterable(li4)))\n"
      ],
      "metadata": {
        "colab": {
          "base_uri": "https://localhost:8080/"
        },
        "id": "hYyQbTeOS-Gz",
        "outputId": "8722d455-1cc5-445f-85ca-8609645dc4fa"
      },
      "execution_count": null,
      "outputs": [
        {
          "output_type": "stream",
          "name": "stdout",
          "text": [
            "All values in mentioned chain are : [1, 4, 5, 7, 1, 6, 5, 9, 8, 10, 5, 4]\n"
          ]
        }
      ]
    },
    {
      "cell_type": "code",
      "source": [
        "# Python code to demonstrate the working of\n",
        "# and compress()\n",
        "\n",
        "\n",
        "import itertools\n",
        "\n",
        "\n",
        "# using compress() selectively print data values\n",
        "print(\"The compressed values in string are : \", end=\"\")\n",
        "print(list(itertools.compress('GEEKSFORGEEKS', [\n",
        "\t1, 0, 0, 0, 0, 1, 0, 0, 1, 0, 0, 0, 0])))\n"
      ],
      "metadata": {
        "colab": {
          "base_uri": "https://localhost:8080/"
        },
        "id": "GxWCXO5zTLyo",
        "outputId": "ccb39228-c9a0-4025-e71c-a381f10077cc"
      },
      "execution_count": null,
      "outputs": [
        {
          "output_type": "stream",
          "name": "stdout",
          "text": [
            "The compressed values in string are : ['G', 'F', 'G']\n"
          ]
        }
      ]
    },
    {
      "cell_type": "markdown",
      "source": [
        "5.***dropwhile(func, seq):*** This iterator starts printing the characters only after the func. in argument returns false for the first time."
      ],
      "metadata": {
        "id": "Upp6_F8bTYHs"
      }
    },
    {
      "cell_type": "code",
      "source": [
        "# Python code to demonstrate the working of\n",
        "# dropwhile()\n",
        "\n",
        "\n",
        "import itertools\n",
        "\n",
        "\n",
        "# initializing list\n",
        "li = [2, 4, 5, 7, 8]\n",
        "\n",
        "# using dropwhile() to start displaying after condition is false\n",
        "print (\"The values after condition returns false : \", end =\"\")\n",
        "print (list(itertools.dropwhile(lambda x : x % 2 == 0, li)))\n"
      ],
      "metadata": {
        "colab": {
          "base_uri": "https://localhost:8080/"
        },
        "id": "qvlGnVeIToHI",
        "outputId": "8c109e23-83dd-42ce-fd89-ea46475eca92"
      },
      "execution_count": null,
      "outputs": [
        {
          "output_type": "stream",
          "name": "stdout",
          "text": [
            "The values after condition returns false : [5, 7, 8]\n"
          ]
        }
      ]
    },
    {
      "cell_type": "code",
      "source": [
        "# Python code to demonstrate the working of\n",
        "# dropwhile()\n",
        "\n",
        "\n",
        "import itertools\n",
        "\n",
        "\n",
        "# initializing list\n",
        "li = [2, 4, 5, 7, 8]\n",
        "\n",
        "# using dropwhile() to start displaying after condition is false\n",
        "print (\"The values after condition returns false : \", end =\"\")\n",
        "print (list(itertools.dropwhile(lambda x : x % 2 == 0, li)))\n"
      ],
      "metadata": {
        "colab": {
          "base_uri": "https://localhost:8080/"
        },
        "id": "CyyijrN1TyS4",
        "outputId": "7f747a1c-547f-4400-e740-fbdb47a9c847"
      },
      "execution_count": null,
      "outputs": [
        {
          "output_type": "stream",
          "name": "stdout",
          "text": [
            "The values after condition returns false : [5, 7, 8]\n"
          ]
        }
      ]
    },
    {
      "cell_type": "code",
      "source": [
        "# Python code to demonstrate the working of\n",
        "# filterfalse()\n",
        "\n",
        "\n",
        "import itertools\n",
        "\n",
        "# initializing list\n",
        "li = [5, 7, 1, 8, 0]\n",
        "\n",
        "# using filterfalse() to print false values\n",
        "print (\"The values that return false to function are : \", end =\"\")\n",
        "print (list(itertools.filterfalse(lambda x : x % 2 == 0, li)))\n"
      ],
      "metadata": {
        "colab": {
          "base_uri": "https://localhost:8080/"
        },
        "id": "D4DAPO8MTeGt",
        "outputId": "c766ffb1-df82-44f8-94bd-cb06bddb70d3"
      },
      "execution_count": 15,
      "outputs": [
        {
          "output_type": "stream",
          "name": "stdout",
          "text": [
            "The values that return false to function are : [5, 7, 1]\n"
          ]
        }
      ]
    },
    {
      "cell_type": "code",
      "source": [
        "# Python code to demonstrate the working of\n",
        "# islice()\n",
        "\n",
        "\n",
        "import itertools\n",
        "\n",
        "# initializing list\n",
        "li = [2, 4, 5, 7, 8, 10, 20]\n",
        "\n",
        "# using islice() to slice the list acc. to need\n",
        "# starts printing from 2nd index till 6th skipping 2\n",
        "print (\"The sliced list values are : \", end =\"\")\n",
        "print (list(itertools.islice(li, 1, 6, 2)))\n"
      ],
      "metadata": {
        "colab": {
          "base_uri": "https://localhost:8080/"
        },
        "id": "35TeqU8OUS_d",
        "outputId": "6df42e59-6b0d-4765-e26d-a43e0d6f6dee"
      },
      "execution_count": null,
      "outputs": [
        {
          "output_type": "stream",
          "name": "stdout",
          "text": [
            "The sliced list values are : [4, 7, 10]\n"
          ]
        }
      ]
    },
    {
      "cell_type": "code",
      "source": [
        "# Python code to demonstrate the working of\n",
        "# starmap()\n",
        "\n",
        "\n",
        "import itertools\n",
        "\n",
        "\n",
        "# initializing tuple list\n",
        "li = [ (1, 10, 5), (8, 4, 1), (5, 4, 9), (11, 10, 1) ]\n",
        "\n",
        "# using starmap() for selection value acc. to function\n",
        "# selects min of all tuple values\n",
        "print (\"The values acc. to function are : \", end =\"\")\n",
        "print (list(itertools.starmap(min, li)))\n"
      ],
      "metadata": {
        "colab": {
          "base_uri": "https://localhost:8080/"
        },
        "id": "QRsaZp8DVuvb",
        "outputId": "cc2e9fd4-3701-4b2f-a769-30fc3bcdd895"
      },
      "execution_count": null,
      "outputs": [
        {
          "output_type": "stream",
          "name": "stdout",
          "text": [
            "The values acc. to function are : [1, 1, 4, 1]\n"
          ]
        }
      ]
    },
    {
      "cell_type": "code",
      "source": [
        "# Python code to demonstrate the working of\n",
        "# takewhile()\n",
        "\n",
        "\n",
        "import itertools\n",
        "\n",
        "# initializing list\n",
        "li = [2, 4, 6, 7, 8, 10, 20]\n",
        "\n",
        "# using takewhile() to print values till condition is false.\n",
        "print (\"The list values till 1st false value are : \", end =\"\")\n",
        "print (list(itertools.takewhile(lambda x : x % 2 == 0, li )))\n"
      ],
      "metadata": {
        "colab": {
          "base_uri": "https://localhost:8080/"
        },
        "id": "InB7YxcRWVcq",
        "outputId": "0f69daf5-3264-40b3-a55f-f6b4fc948ee2"
      },
      "execution_count": null,
      "outputs": [
        {
          "output_type": "stream",
          "name": "stdout",
          "text": [
            "The list values till 1st false value are : [2, 4, 6]\n"
          ]
        }
      ]
    },
    {
      "cell_type": "code",
      "source": [
        "# Python code to demonstrate the working of\n",
        "# tee()\n",
        "\n",
        "\n",
        "import itertools\n",
        "\n",
        "# initializing list\n",
        "li = [2, 4, 6, 7, 8, 10, 20]\n",
        "\n",
        "# storing list in iterator\n",
        "iti = iter(li)\n",
        "\n",
        "# using tee() to make a list of iterators\n",
        "# makes list of 3 iterators having same values.\n",
        "it = itertools.tee(iti, 3)\n",
        "\n",
        "# printing the values of iterators\n",
        "print(\"The iterators are : \")\n",
        "for i in range(0, 3):\n",
        "\tprint(list(it[i]))\n"
      ],
      "metadata": {
        "colab": {
          "base_uri": "https://localhost:8080/"
        },
        "id": "pOXnIw-aW0vX",
        "outputId": "b327325c-a150-4e9d-a266-9beaf1f5efd5"
      },
      "execution_count": 14,
      "outputs": [
        {
          "output_type": "stream",
          "name": "stdout",
          "text": [
            "The iterators are : \n",
            "[2, 4, 6, 7, 8, 10, 20]\n",
            "[2, 4, 6, 7, 8, 10, 20]\n",
            "[2, 4, 6, 7, 8, 10, 20]\n"
          ]
        }
      ]
    },
    {
      "cell_type": "code",
      "source": [
        "# Python code to demonstrate the working of\n",
        "# zip_longest()\n",
        "\n",
        "\n",
        "import itertools\n",
        "\n",
        "# using zip_longest() to combine two iterables.\n",
        "print(\"The combined values of iterables is : \")\n",
        "print(*(itertools.zip_longest('Ptyyww', 'rsdny', fillvalue='_')))\n"
      ],
      "metadata": {
        "colab": {
          "base_uri": "https://localhost:8080/"
        },
        "id": "ngf4KJkZXcer",
        "outputId": "642e7971-83c8-4b5a-e6b6-2410d26df93e"
      },
      "execution_count": 11,
      "outputs": [
        {
          "output_type": "stream",
          "name": "stdout",
          "text": [
            "The combined values of iterables is : \n",
            "('P', 'r') ('t', 's') ('y', 'd') ('y', 'n') ('w', 'y') ('w', '_')\n"
          ]
        }
      ]
    }
  ]
}